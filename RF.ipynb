{
 "cells": [
  {
   "cell_type": "code",
   "execution_count": 1,
   "metadata": {},
   "outputs": [],
   "source": [
    "\n",
    "import matplotlib.pyplot as plt\n",
    "import numpy as np\n",
    "import pandas as pd\n",
    "import scipy.stats\n",
    "import seaborn as sns\n",
    "import sklearn\n",
    "import sklearn.datasets\n",
    "import sklearn.linear_model\n",
    "import sklearn.metrics\n",
    "import sklearn.model_selection\n",
    "import sklearn.neighbors\n",
    "import sklearn.pipeline\n",
    "import sklearn.preprocessing\n",
    "import sklearn.svm\n",
    "import sklearn.ensemble\n",
    "\n",
    "import os"
   ]
  },
  {
   "cell_type": "code",
   "execution_count": 2,
   "metadata": {},
   "outputs": [
    {
     "data": {
      "text/plain": [
       "'C:\\\\Users\\\\Will\\\\Desktop\\\\ML'"
      ]
     },
     "execution_count": 2,
     "metadata": {},
     "output_type": "execute_result"
    }
   ],
   "source": [
    "\n",
    "os.chdir(\"C:\\\\Users\\\\Will\\\\Desktop\\\\ML\")\n",
    "os.getcwd()"
   ]
  },
  {
   "cell_type": "code",
   "execution_count": 3,
   "metadata": {},
   "outputs": [],
   "source": [
    "input = 'Kidney_FPKM_Quantile_No-Outliers_5_17_18.tab'\n",
    "annotation = 'kidneyannotation.txt'"
   ]
  },
  {
   "cell_type": "code",
   "execution_count": 4,
   "metadata": {},
   "outputs": [],
   "source": [
    "def loadgem(gem, annot, attribute):\n",
    "    \n",
    "    gem = pd.read_table(gem, sep='\\t')\n",
    "    anot = pd.read_table(annot, sep='\\t')\n",
    "    gem = gem.T\n",
    "    samples = gem.index\n",
    "    cond = anot[attribute].to_frame()\n",
    "    cond = cond.set_index(samples)\n",
    "    gem[attribute] = cond\n",
    "    gem = gem.fillna(-10)\n",
    "    gem = gem.sort_values(attribute)\n",
    "    \n",
    "    return gem\n",
    "\n"
   ]
  },
  {
   "cell_type": "code",
   "execution_count": null,
   "metadata": {},
   "outputs": [],
   "source": []
  },
  {
   "cell_type": "code",
   "execution_count": 5,
   "metadata": {},
   "outputs": [],
   "source": [
    "def train(gem, attribute):\n",
    "    \n",
    "    X = gem.iloc[:, :-1]\n",
    "    y = gem.loc[:, attribute]\n",
    "\n",
    "\n",
    "    # split the dataset into train and test sets\n",
    "    X_train, X_test, y_train, y_test = sklearn.model_selection.train_test_split(X, y, test_size=0.3)\n",
    "\n",
    "    # print shapes of train set and test set\n",
    "    print(\"X_train shape: (%d, %d)\" % X_train.shape)\n",
    "    print(\"y_train shape: (%d,)\" % y_train.shape)\n",
    "    print(\"X_test shape: (%d, %d)\" % X_test.shape)\n",
    "    print(\"y_test shape: (%d,)\" % y_test.shape)\n",
    "\n",
    "    model = sklearn.ensemble.RandomForestClassifier()\n",
    "\n",
    "    model.fit(X_train, y_train) \n",
    "\n",
    "    y_pred = model.predict(X_test)\n",
    "\n",
    "    accuracy = sum(y_pred == y_test) / len(y_test) * 100\n",
    "    acc = \"%0.2f\" % accuracy\n",
    "\n",
    "    print(str(\"Accuracy: \" + str(acc) + \"%\"))\n",
    "    \n",
    "    return y_test, y_pred, X_train, model\n",
    "    "
   ]
  },
  {
   "cell_type": "code",
   "execution_count": 6,
   "metadata": {},
   "outputs": [],
   "source": [
    "#gem = loadgem(input, annotation, 'Treatment')\n",
    "#train(gem, 'Treatment')"
   ]
  },
  {
   "cell_type": "code",
   "execution_count": 7,
   "metadata": {},
   "outputs": [],
   "source": [
    "\n",
    "def confusion(gem, attribute, obj):\n",
    "\n",
    "    classes = []\n",
    "    cond = gem[attribute]\n",
    "    for item in cond:\n",
    "        if item not in classes:\n",
    "            classes.append(item)\n",
    "\n",
    "\n",
    "\n",
    "    # compute confusion matrix for the ground truth and predicted labels\n",
    "    cnf_matrix = sklearn.metrics.confusion_matrix(obj[0], obj[1])\n",
    "\n",
    "    # plot a heatmap of the confusion matrix\n",
    "    title = str(\"Confusion Matrix: \" + str(attribute))\n",
    "    sns.heatmap(cnf_matrix, annot=True, fmt=\"d\", cbar=False, square=True, xticklabels=classes, yticklabels=classes)\n",
    "    plt.ylabel(\"Expected\")\n",
    "    plt.xlabel(\"Measured\")\n",
    "    plt.title(title)\n",
    "    plt.show()\n"
   ]
  },
  {
   "cell_type": "code",
   "execution_count": null,
   "metadata": {},
   "outputs": [],
   "source": []
  },
  {
   "cell_type": "code",
   "execution_count": 8,
   "metadata": {},
   "outputs": [],
   "source": [
    "def extract(model):\n",
    "    imp = pd.DataFrame(model[3].feature_importances_,\n",
    "                                   index = model[2].columns,\n",
    "                                    columns=['importance']).sort_values('importance', ascending=False)\n",
    "    return imp"
   ]
  },
  {
   "cell_type": "code",
   "execution_count": 9,
   "metadata": {},
   "outputs": [],
   "source": [
    "def Main():\n",
    "    \n",
    "    count = 0\n",
    "    for line in open(annotation):\n",
    "        count +=1\n",
    "        if count == 1:\n",
    "            #skip sample column\n",
    "            conditions = line.strip().split('\\t')[1:]\n",
    "            print(conditions)\n",
    "        else:\n",
    "            break\n",
    "    \n",
    "    for item in conditions:\n",
    "        \n",
    "        gem = loadgem(input, annotation, item)\n",
    "        res = train(gem, item)\n",
    "        conf = confusion(gem, item, res)\n",
    "        feat = extract(res)\n",
    "        print(feat)"
   ]
  },
  {
   "cell_type": "code",
   "execution_count": 10,
   "metadata": {},
   "outputs": [
    {
     "name": "stdout",
     "output_type": "stream",
     "text": [
      "['Cancer', 'Tissue']\n",
      "X_train shape: (706, 60483)\n",
      "y_train shape: (706,)\n",
      "X_test shape: (303, 60483)\n",
      "y_test shape: (303,)\n",
      "Accuracy: 91.09%\n"
     ]
    },
    {
     "data": {
      "image/png": "[encoded data removed]",
      "text/plain": [
       "<Figure size 432x288 with 1 Axes>"
      ]
     },
     "metadata": {},
     "output_type": "display_data"
    },
    {
     "name": "stdout",
     "output_type": "stream",
     "text": [
      "                    importance\n",
      "ENSG00000280219.1     0.051741\n",
      "ENSG00000204301.6     0.050918\n",
      "ENSG00000183807.7     0.048227\n",
      "ENSG00000187068.2     0.047743\n",
      "ENSG00000125810.9     0.043924\n",
      "ENSG00000116833.12    0.042446\n",
      "ENSG00000152583.11    0.042207\n",
      "ENSG00000163536.11    0.039112\n",
      "ENSG00000179097.5     0.038402\n",
      "ENSG00000109066.12    0.038243\n",
      "ENSG00000108846.14    0.017577\n",
      "ENSG00000103266.9     0.017304\n",
      "ENSG00000092964.15    0.015847\n",
      "ENSG00000196932.10    0.015419\n",
      "ENSG00000273394.1     0.014384\n",
      "ENSG00000225362.7     0.014135\n",
      "ENSG00000138792.8     0.013227\n",
      "ENSG00000229941.4     0.013179\n",
      "ENSG00000113312.9     0.012645\n",
      "ENSG00000006638.10    0.008847\n",
      "ENSG00000162763.3     0.008723\n",
      "ENSG00000147872.8     0.008598\n",
      "ENSG00000240758.2     0.007811\n",
      "ENSG00000146376.9     0.007428\n",
      "ENSG00000205129.7     0.006733\n",
      "ENSG00000230432.1     0.006343\n",
      "ENSG00000256514.1     0.005968\n",
      "ENSG00000140937.12    0.005658\n",
      "ENSG00000156298.11    0.005570\n",
      "ENSG00000173818.15    0.005347\n",
      "...                        ...\n",
      "ENSG00000205494.8     0.000000\n",
      "ENSG00000205485.12    0.000000\n",
      "ENSG00000205361.7     0.000000\n",
      "ENSG00000205482.8     0.000000\n",
      "ENSG00000205362.9     0.000000\n",
      "ENSG00000205363.5     0.000000\n",
      "ENSG00000205364.3     0.000000\n",
      "ENSG00000205396.10    0.000000\n",
      "ENSG00000205403.11    0.000000\n",
      "ENSG00000205409.3     0.000000\n",
      "ENSG00000205412.5     0.000000\n",
      "ENSG00000205413.6     0.000000\n",
      "ENSG00000205414.1     0.000000\n",
      "ENSG00000205420.9     0.000000\n",
      "ENSG00000205423.10    0.000000\n",
      "ENSG00000205424.1     0.000000\n",
      "ENSG00000205426.9     0.000000\n",
      "ENSG00000205433.4     0.000000\n",
      "ENSG00000205436.6     0.000000\n",
      "ENSG00000205439.9     0.000000\n",
      "ENSG00000205442.11    0.000000\n",
      "ENSG00000205444.2     0.000000\n",
      "ENSG00000205445.3     0.000000\n",
      "ENSG00000205449.10    0.000000\n",
      "ENSG00000205452.4     0.000000\n",
      "ENSG00000205456.10    0.000000\n",
      "ENSG00000205457.9     0.000000\n",
      "ENSG00000205464.10    0.000000\n",
      "ENSG00000205476.7     0.000000\n",
      "ENSGR0000281849.1     0.000000\n",
      "\n",
      "[60483 rows x 1 columns]\n",
      "X_train shape: (706, 60483)\n",
      "y_train shape: (706,)\n",
      "X_test shape: (303, 60483)\n",
      "y_test shape: (303,)\n",
      "Accuracy: 99.67%\n"
     ]
    },
    {
     "data": {
      "image/png": "[encoded data removed]",
      "text/plain": [
       "<Figure size 432x288 with 1 Axes>"
      ]
     },
     "metadata": {},
     "output_type": "display_data"
    },
    {
     "name": "stdout",
     "output_type": "stream",
     "text": [
      "                    importance\n",
      "ENSG00000258402.1     0.092580\n",
      "ENSG00000196767.6     0.080561\n",
      "ENSG00000170549.3     0.076780\n",
      "ENSG00000228055.2     0.075536\n",
      "ENSG00000279460.1     0.074847\n",
      "ENSG00000147853.15    0.070303\n",
      "ENSG00000061656.8     0.066822\n",
      "ENSG00000114854.6     0.066627\n",
      "ENSG00000127324.7     0.063443\n",
      "ENSG00000109832.11    0.057028\n",
      "ENSG00000132677.11    0.027988\n",
      "ENSG00000165959.10    0.023275\n",
      "ENSG00000185739.12    0.020022\n",
      "ENSG00000168447.9     0.018789\n",
      "ENSG00000174514.11    0.014058\n",
      "ENSG00000117115.11    0.012289\n",
      "ENSG00000090889.11    0.011551\n",
      "ENSG00000185652.10    0.009873\n",
      "ENSG00000255690.2     0.008749\n",
      "ENSG00000164096.12    0.008527\n",
      "ENSG00000126500.3     0.008013\n",
      "ENSG00000267259.1     0.007642\n",
      "ENSG00000118194.17    0.006440\n",
      "ENSG00000183783.6     0.005423\n",
      "ENSG00000187801.13    0.005158\n",
      "ENSG00000153246.10    0.004020\n",
      "ENSG00000148204.10    0.003827\n",
      "ENSG00000270509.1     0.003812\n",
      "ENSG00000089472.15    0.003724\n",
      "ENSG00000116641.14    0.003692\n",
      "...                        ...\n",
      "ENSG00000205189.10    0.000000\n",
      "ENSG00000205186.2     0.000000\n",
      "ENSG00000205184.2     0.000000\n",
      "ENSG00000205181.5     0.000000\n",
      "ENSG00000205057.4     0.000000\n",
      "ENSG00000205060.9     0.000000\n",
      "ENSG00000205076.4     0.000000\n",
      "ENSG00000205078.5     0.000000\n",
      "ENSG00000205084.9     0.000000\n",
      "ENSG00000205085.7     0.000000\n",
      "ENSG00000205086.6     0.000000\n",
      "ENSG00000205089.6     0.000000\n",
      "ENSG00000205090.7     0.000000\n",
      "ENSG00000205097.5     0.000000\n",
      "ENSG00000205100.2     0.000000\n",
      "ENSG00000205105.6     0.000000\n",
      "ENSG00000205106.4     0.000000\n",
      "ENSG00000205108.5     0.000000\n",
      "ENSG00000205111.7     0.000000\n",
      "ENSG00000205116.3     0.000000\n",
      "ENSG00000205126.2     0.000000\n",
      "ENSG00000205129.7     0.000000\n",
      "ENSG00000205133.10    0.000000\n",
      "ENSG00000205138.3     0.000000\n",
      "ENSG00000205143.2     0.000000\n",
      "ENSG00000205155.6     0.000000\n",
      "ENSG00000205174.4     0.000000\n",
      "ENSG00000205176.3     0.000000\n",
      "ENSG00000205177.6     0.000000\n",
      "ENSGR0000281849.1     0.000000\n",
      "\n",
      "[60483 rows x 1 columns]\n"
     ]
    }
   ],
   "source": [
    "Main()"
   ]
  },
  {
   "cell_type": "code",
   "execution_count": null,
   "metadata": {},
   "outputs": [],
   "source": []
  },
  {
   "cell_type": "code",
   "execution_count": null,
   "metadata": {},
   "outputs": [],
   "source": []
  }
 ],
 "metadata": {
  "kernelspec": {
   "display_name": "Python 3",
   "language": "python",
   "name": "python3"
  },
  "language_info": {
   "codemirror_mode": {
    "name": "ipython",
    "version": 3
   },
   "file_extension": ".py",
   "mimetype": "text/x-python",
   "name": "python",
   "nbconvert_exporter": "python",
   "pygments_lexer": "ipython3",
   "version": "3.6.5"
  }
 },
 "nbformat": 4,
 "nbformat_minor": 2
}
