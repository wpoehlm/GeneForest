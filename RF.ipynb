{
 "cells": [
  {
   "cell_type": "code",
   "execution_count": null,
   "metadata": {},
   "outputs": [],
   "source": [
    "\n",
    "import matplotlib.pyplot as plt\n",
    "import numpy as np\n",
    "import pandas as pd\n",
    "import scipy.stats\n",
    "import seaborn as sns\n",
    "import sklearn\n",
    "import sklearn.datasets\n",
    "import sklearn.linear_model\n",
    "import sklearn.metrics\n",
    "import sklearn.model_selection\n",
    "import sklearn.neighbors\n",
    "import sklearn.pipeline\n",
    "import sklearn.preprocessing\n",
    "import sklearn.svm\n",
    "import sklearn.ensemble\n",
    "\n",
    "import os"
   ]
  },
  {
   "cell_type": "code",
   "execution_count": null,
   "metadata": {},
   "outputs": [],
   "source": [
    "\n",
    "os.chdir(\"C:\\\\Users\\\\Will\\\\Desktop\\\\ML\")\n",
    "os.getcwd()"
   ]
  },
  {
   "cell_type": "code",
   "execution_count": null,
   "metadata": {},
   "outputs": [],
   "source": [
    "input = 'grepgem.txt'\n",
    "annotation = 'conditions_nozero.txt'"
   ]
  },
  {
   "cell_type": "code",
   "execution_count": null,
   "metadata": {},
   "outputs": [],
   "source": [
    "def loadgem(gem, annot, attribute):\n",
    "    \n",
    "    gem = pd.read_table(gem, sep='\\t')\n",
    "    anot = pd.read_table(annot, sep='\\t')\n",
    "    gem = gem.T\n",
    "    samples = gem.index\n",
    "    cond = anot[attribute].to_frame()\n",
    "    cond = cond.set_index(samples)\n",
    "    gem[attribute] = cond\n",
    "    gem = gem.fillna(-10)\n",
    "    gem = gem.sort_values(attribute)\n",
    "    \n",
    "    return gem\n",
    "\n"
   ]
  },
  {
   "cell_type": "code",
   "execution_count": null,
   "metadata": {},
   "outputs": [],
   "source": []
  },
  {
   "cell_type": "code",
   "execution_count": null,
   "metadata": {},
   "outputs": [],
   "source": [
    "def train(gem, attribute):\n",
    "    \n",
    "    X = gem.iloc[:, :-1]\n",
    "    y = gem.loc[:, attribute]\n",
    "\n",
    "\n",
    "    # split the dataset into train and test sets\n",
    "    X_train, X_test, y_train, y_test = sklearn.model_selection.train_test_split(X, y, test_size=0.3)\n",
    "\n",
    "    # print shapes of train set and test set\n",
    "    print(\"X_train shape: (%d, %d)\" % X_train.shape)\n",
    "    print(\"y_train shape: (%d,)\" % y_train.shape)\n",
    "    print(\"X_test shape: (%d, %d)\" % X_test.shape)\n",
    "    print(\"y_test shape: (%d,)\" % y_test.shape)\n",
    "\n",
    "    model = sklearn.ensemble.RandomForestClassifier()\n",
    "\n",
    "    model.fit(X_train, y_train) \n",
    "\n",
    "    y_pred = model.predict(X_test)\n",
    "\n",
    "    accuracy = sum(y_pred == y_test) / len(y_test) * 100\n",
    "    acc = \"%0.2f\" % accuracy\n",
    "\n",
    "    print(str(\"Accuracy: \" + str(acc) + \"%\"))\n",
    "    \n",
    "    return y_test, y_pred, X_train, model\n",
    "    "
   ]
  },
  {
   "cell_type": "code",
   "execution_count": null,
   "metadata": {},
   "outputs": [],
   "source": []
  },
  {
   "cell_type": "code",
   "execution_count": null,
   "metadata": {},
   "outputs": [],
   "source": [
    "\n",
    "def confusion(gem, attribute, obj):\n",
    "\n",
    "    classes = []\n",
    "    cond = gem[attribute]\n",
    "    for item in cond:\n",
    "        if item not in classes:\n",
    "            classes.append(item)\n",
    "\n",
    "\n",
    "\n",
    "    # compute confusion matrix for the ground truth and predicted labels\n",
    "    cnf_matrix = sklearn.metrics.confusion_matrix(obj[0], obj[1])\n",
    "\n",
    "    # plot a heatmap of the confusion matrix\n",
    "    title = str(\"Confusion Matrix: \" + str(attribute))\n",
    "    sns.heatmap(cnf_matrix, annot=True, fmt=\"d\", cbar=False, square=True, xticklabels=classes, yticklabels=classes)\n",
    "    plt.ylabel(\"Expected\")\n",
    "    plt.xlabel(\"Measured\")\n",
    "    plt.title(title)\n",
    "    plt.show()\n"
   ]
  },
  {
   "cell_type": "code",
   "execution_count": null,
   "metadata": {},
   "outputs": [],
   "source": []
  },
  {
   "cell_type": "code",
   "execution_count": null,
   "metadata": {},
   "outputs": [],
   "source": [
    "def extract(model):\n",
    "    imp = pd.DataFrame(model[3].feature_importances_,\n",
    "                                   index = model[2].columns,\n",
    "                                    columns=['importance']).sort_values('importance', ascending=False)\n",
    "    return imp"
   ]
  },
  {
   "cell_type": "code",
   "execution_count": null,
   "metadata": {},
   "outputs": [],
   "source": [
    "def Main():\n",
    "    \n",
    "    count = 0\n",
    "    for line in open(annotation):\n",
    "        count +=1\n",
    "        if count == 1:\n",
    "            #skip sample column\n",
    "            conditions = line.strip().split('\\t')[1:]\n",
    "            print(conditions)\n",
    "        else:\n",
    "            break\n",
    "    \n",
    "    for item in conditions:\n",
    "        \n",
    "        gem = loadgem(input, annotation, item)\n",
    "        res = train(gem, item)\n",
    "        conf = confusion(gem, item, res)\n",
    "        feat = extract(res)\n",
    "        print(feat)"
   ]
  },
  {
   "cell_type": "code",
   "execution_count": null,
   "metadata": {},
   "outputs": [],
   "source": [
    "Main()"
   ]
  },
  {
   "cell_type": "code",
   "execution_count": null,
   "metadata": {},
   "outputs": [],
   "source": []
  },
  {
   "cell_type": "code",
   "execution_count": null,
   "metadata": {},
   "outputs": [],
   "source": []
  }
 ],
 "metadata": {
  "kernelspec": {
   "display_name": "Python 3",
   "language": "python",
   "name": "python3"
  },
  "language_info": {
   "codemirror_mode": {
    "name": "ipython",
    "version": 3
   },
   "file_extension": ".py",
   "mimetype": "text/x-python",
   "name": "python",
   "nbconvert_exporter": "python",
   "pygments_lexer": "ipython3",
   "version": "3.6.5"
  }
 },
 "nbformat": 4,
 "nbformat_minor": 2
}
